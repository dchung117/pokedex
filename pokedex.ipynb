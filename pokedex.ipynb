{
 "cells": [
  {
   "cell_type": "code",
   "execution_count": null,
   "metadata": {},
   "outputs": [],
   "source": [
    "import os\n",
    "import glob\n",
    "import torch\n",
    "from torch.nn.functional import softmax\n",
    "from torchvision import transforms\n",
    "from IPython.display import clear_output\n",
    "\n",
    "from ipywidgets.widgets import FileUpload, Label, Output, VBox\n",
    "from PIL import Image\n",
    "from io import BytesIO\n",
    "\n",
    "from resnet50 import ResNet50\n",
    "from utils import make_conv_dict, build_res_layers, get_device"
   ]
  },
  {
   "cell_type": "code",
   "execution_count": null,
   "metadata": {
    "tags": []
   },
   "outputs": [],
   "source": [
    "#  Create ResNet50 dictionary\n",
    "classes = [c.split('/')[-1] for c in sorted(glob.glob(os.path.join('poke_imgs', '*')))]\n",
    "num_classes = len(classes)\n",
    "layer1 = build_res_layers(1)\n",
    "layer2 = build_res_layers(2, in_chls=256)\n",
    "layer3 = build_res_layers(3, in_chls=512)\n",
    "layer4 = build_res_layers(4, in_chls=1024)\n",
    "\n",
    "res_50 = ResNet50(num_classes, layer1, layer2, layer3, layer4, pretrained=False, verbose=False)"
   ]
  },
  {
   "cell_type": "code",
   "execution_count": null,
   "metadata": {
    "tags": []
   },
   "outputs": [],
   "source": [
    "#  Get current device\n",
    "device = get_device()"
   ]
  },
  {
   "cell_type": "code",
   "execution_count": null,
   "metadata": {},
   "outputs": [],
   "source": [
    "#  Load ResNet50 model weights\n",
    "ckpt_path = os.path.join('res50_ckpts', 'res50_ft_data_eps100_lr0001_ckpt.pt')\n",
    "ckpt = torch.load(ckpt_path, map_location=device) \n",
    "res_50.load_state_dict(ckpt['state_dict'])\n",
    "res_50.to(device)\n",
    "clear_output()"
   ]
  },
  {
   "cell_type": "code",
   "execution_count": null,
   "metadata": {},
   "outputs": [],
   "source": [
    "#  Create method to get prediction\n",
    "def predict(img, model, classes):\n",
    "    \"\"\"Returns predicted Pokemon classification as well as confidence.\"\"\"\n",
    "    #  Transform images\n",
    "    trans_func = transforms.Compose([transforms.Resize((224, 224)), transforms.ToTensor(), \n",
    "                                     transforms.Normalize((0.5, 0.5, 0.5), (0.5, 0.5, 0.5))])\n",
    "    img_input = trans_func(img)\n",
    "    \n",
    "    #  Compute prediction\n",
    "    model.eval()\n",
    "    with torch.no_grad():\n",
    "        logits = model(img_input.unsqueeze(0))\n",
    "    \n",
    "        prob, pred = torch.max(softmax(logits), dim=1)\n",
    "    \n",
    "    return prob, pred"
   ]
  },
  {
   "cell_type": "code",
   "execution_count": null,
   "metadata": {},
   "outputs": [],
   "source": [
    "#  Create framework for web app\n",
    "upload_btn = FileUpload()\n",
    "pred_lbl = Label()\n",
    "out_disp = Output()"
   ]
  },
  {
   "cell_type": "code",
   "execution_count": null,
   "metadata": {},
   "outputs": [],
   "source": [
    "#  Write commands when new image is uploaded\n",
    "def on_upload(change):\n",
    "    \"\"\"Run steps to compute and return prediction.\"\"\"\n",
    "    pred_lbl.value = 'Unknown'\n",
    "\n",
    "    #  Read image\n",
    "    img = Image.open(BytesIO(upload_btn.data[-1]))\n",
    "\n",
    "    #  Compute prediction\n",
    "    prob, pred_idx = predict(img, res_50, classes)\n",
    "\n",
    "    #  Display image and prediction\n",
    "    out_disp.clear_output()\n",
    "    with out_disp:\n",
    "        img.thumbnail((128, 128))\n",
    "        display(img)\n",
    "    \n",
    "    pred_lbl.value = f'Prediction: {classes[pred_idx.item()]}, Probability: {prob.item():.4f}'\n",
    "\n",
    "upload_btn.observe(on_upload, names = ['data'])"
   ]
  },
  {
   "cell_type": "code",
   "execution_count": null,
   "metadata": {},
   "outputs": [],
   "source": [
    "#  Display the UI\n",
    "display(VBox([Label('Upload your Pokemon image!'), upload_btn, out_disp, pred_lbl]))"
   ]
  }
 ],
 "metadata": {
  "kernelspec": {
   "display_name": "Python 3",
   "language": "python",
   "name": "python3"
  },
  "language_info": {
   "codemirror_mode": {
    "name": "ipython",
    "version": 3
   },
   "file_extension": ".py",
   "mimetype": "text/x-python",
   "name": "python",
   "nbconvert_exporter": "python",
   "pygments_lexer": "ipython3",
   "version": "3.8.3"
  }
 },
 "nbformat": 4,
 "nbformat_minor": 2
}
